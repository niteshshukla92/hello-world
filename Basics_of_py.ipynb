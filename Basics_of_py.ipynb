{
 "cells": [
  {
   "cell_type": "code",
   "execution_count": 5,
   "metadata": {},
   "outputs": [
    {
     "name": "stdout",
     "output_type": "stream",
     "text": [
      "Sum= 20\n"
     ]
    }
   ],
   "source": [
    "a=b=10\n",
    "# d=sum(a,b)\n",
    "print(\"Sum=\",a+b)"
   ]
  },
  {
   "cell_type": "code",
   "execution_count": 13,
   "metadata": {},
   "outputs": [
    {
     "data": {
      "text/plain": [
       "'use triple Quotes\\nthis is the program \\nto find the best \\namong the worst'"
      ]
     },
     "execution_count": 13,
     "metadata": {},
     "output_type": "execute_result"
    }
   ],
   "source": [
    "import xlrd\n",
    "\"\"\"use triple Quotes\n",
    "this is the program \n",
    "to find the best \n",
    "among the worst\"\"\""
   ]
  },
  {
   "cell_type": "markdown",
   "metadata": {},
   "source": [
    "# Function"
   ]
  },
  {
   "cell_type": "code",
   "execution_count": 25,
   "metadata": {},
   "outputs": [
    {
     "name": "stdout",
     "output_type": "stream",
     "text": [
      "Sum= 5\n",
      "WTF\n"
     ]
    }
   ],
   "source": [
    "# Create a function\n",
    "def add(x,y):\n",
    "    '''this is the magic'''\n",
    "    print(\"Sum=\",x+y)\n",
    "    \n",
    "def message():\n",
    "        print(\"WTF\")\n",
    "        \n",
    "add(2,3)\n",
    "message()"
   ]
  },
  {
   "cell_type": "markdown",
   "metadata": {},
   "source": [
    "# data types  - none, numeric,sequence,sets,mapping"
   ]
  },
  {
   "cell_type": "code",
   "execution_count": 27,
   "metadata": {},
   "outputs": [
    {
     "name": "stdout",
     "output_type": "stream",
     "text": [
      "<class 'int'> 10\n"
     ]
    }
   ],
   "source": [
    "a=10;\n",
    "print(type(a),a)"
   ]
  },
  {
   "cell_type": "code",
   "execution_count": 28,
   "metadata": {},
   "outputs": [
    {
     "name": "stdout",
     "output_type": "stream",
     "text": [
      "2 1\n"
     ]
    }
   ],
   "source": [
    "a=1\n",
    "b=a\n",
    "a=2\n",
    "print(a,b)"
   ]
  },
  {
   "cell_type": "code",
   "execution_count": 29,
   "metadata": {},
   "outputs": [
    {
     "name": "stdout",
     "output_type": "stream",
     "text": [
      "2 1 (2+5j) <class 'complex'> (4+4j) (-42+11j)\n"
     ]
    }
   ],
   "source": [
    "c= 2+5j\n",
    "d=3+2j\n",
    "e=1+2j\n",
    "print(a,b,c,type(e),d+e,c*d*e)"
   ]
  },
  {
   "cell_type": "code",
   "execution_count": 32,
   "metadata": {},
   "outputs": [],
   "source": [
    "# int(d)\n",
    "# print(d)"
   ]
  },
  {
   "cell_type": "code",
   "execution_count": 38,
   "metadata": {},
   "outputs": [
    {
     "name": "stdout",
     "output_type": "stream",
     "text": [
      "octal 17 = 114\n"
     ]
    },
    {
     "ename": "NameError",
     "evalue": "name 'n3' is not defined",
     "output_type": "error",
     "traceback": [
      "\u001b[1;31m---------------------------------------------------------------------------\u001b[0m",
      "\u001b[1;31mNameError\u001b[0m                                 Traceback (most recent call last)",
      "\u001b[1;32m<ipython-input-38-8713fbc9b731>\u001b[0m in \u001b[0;36m<module>\u001b[1;34m()\u001b[0m\n\u001b[0;32m      4\u001b[0m \u001b[0mn\u001b[0m\u001b[1;33m=\u001b[0m\u001b[0mint\u001b[0m\u001b[1;33m(\u001b[0m\u001b[0mn2\u001b[0m\u001b[1;33m)\u001b[0m\u001b[1;33m\u001b[0m\u001b[0m\n\u001b[0;32m      5\u001b[0m \u001b[0mprint\u001b[0m\u001b[1;33m(\u001b[0m\u001b[1;34m'octal 17 ='\u001b[0m\u001b[1;33m,\u001b[0m\u001b[0mn\u001b[0m\u001b[1;33m)\u001b[0m\u001b[1;33m\u001b[0m\u001b[0m\n\u001b[1;32m----> 6\u001b[1;33m \u001b[0mn\u001b[0m\u001b[1;33m=\u001b[0m\u001b[0mint\u001b[0m\u001b[1;33m(\u001b[0m\u001b[0mn3\u001b[0m\u001b[1;33m)\u001b[0m\u001b[1;33m\u001b[0m\u001b[0m\n\u001b[0m\u001b[0;32m      7\u001b[0m \u001b[0mprint\u001b[0m\u001b[1;33m(\u001b[0m\u001b[1;34m'Hex'\u001b[0m\u001b[1;33m,\u001b[0m\u001b[0mn\u001b[0m\u001b[1;33m)\u001b[0m\u001b[1;33m\u001b[0m\u001b[0m\n",
      "\u001b[1;31mNameError\u001b[0m: name 'n3' is not defined"
     ]
    }
   ],
   "source": [
    "n1=17\n",
    "n2=0B1110010\n",
    "N3=0X1C2\n",
    "n=int(n2)\n",
    "print('octal 17 =',n)\n",
    "n=int(n3)\n",
    "print('Hex',n)"
   ]
  },
  {
   "cell_type": "markdown",
   "metadata": {},
   "source": [
    "# datatype- sequence"
   ]
  },
  {
   "cell_type": "code",
   "execution_count": 45,
   "metadata": {},
   "outputs": [
    {
     "name": "stdout",
     "output_type": "stream",
     "text": [
      "<class 'str'> welcome\n",
      "w\n",
      "e\n",
      "emoclew\n",
      "this is aweosme\n",
      "this is aweosmethis is aweosme\n",
      "emsoewa si siht\n"
     ]
    }
   ],
   "source": [
    "str=\"welcome\"\n",
    "print(type(str),str)\n",
    "print(str[0])\n",
    "print(str[-1])\n",
    "print(str[::-1])\n",
    "\"\"\"returns reverse of string\"\"\"\n",
    "s='this is aweosme'\n",
    "print(s)\n",
    "print(s*2)\n",
    "print(s[::-1])"
   ]
  },
  {
   "cell_type": "code",
   "execution_count": 70,
   "metadata": {},
   "outputs": [
    {
     "name": "stdout",
     "output_type": "stream",
     "text": [
      "Printing bytearray\n",
      "34\n",
      "2\n",
      "3\n",
      "10\n",
      "194\n",
      "98\n",
      "100\n",
      "bytes are immutatable\n",
      "Printing byte\n"
     ]
    },
    {
     "ename": "TypeError",
     "evalue": "'bytes' object does not support item assignment",
     "output_type": "error",
     "traceback": [
      "\u001b[1;31m---------------------------------------------------------------------------\u001b[0m",
      "\u001b[1;31mTypeError\u001b[0m                                 Traceback (most recent call last)",
      "\u001b[1;32m<ipython-input-70-af744afd2ffe>\u001b[0m in \u001b[0;36m<module>\u001b[1;34m()\u001b[0m\n\u001b[0;32m     11\u001b[0m \u001b[0mprint\u001b[0m\u001b[1;33m(\u001b[0m\u001b[1;34m\"bytes are immutatable\"\u001b[0m\u001b[1;33m)\u001b[0m\u001b[1;33m\u001b[0m\u001b[0m\n\u001b[0;32m     12\u001b[0m \u001b[0mprint\u001b[0m\u001b[1;33m(\u001b[0m\u001b[1;34m'Printing byte'\u001b[0m\u001b[1;33m)\u001b[0m\u001b[1;33m\u001b[0m\u001b[0m\n\u001b[1;32m---> 13\u001b[1;33m \u001b[0mx\u001b[0m\u001b[1;33m[\u001b[0m\u001b[1;36m0\u001b[0m\u001b[1;33m]\u001b[0m\u001b[1;33m=\u001b[0m\u001b[1;36m34\u001b[0m\u001b[1;33m\u001b[0m\u001b[0m\n\u001b[0m\u001b[0;32m     14\u001b[0m \u001b[1;32mfor\u001b[0m \u001b[0mi\u001b[0m \u001b[1;32min\u001b[0m \u001b[0mx\u001b[0m\u001b[1;33m:\u001b[0m \u001b[0mprint\u001b[0m\u001b[1;33m(\u001b[0m\u001b[0mi\u001b[0m\u001b[1;33m)\u001b[0m\u001b[1;33m\u001b[0m\u001b[0m\n",
      "\u001b[1;31mTypeError\u001b[0m: 'bytes' object does not support item assignment"
     ]
    }
   ],
   "source": [
    "e=[10,2,3,10,194,98,100]\n",
    "'''bytes can only store 0-255 ONLY. NO NEGATIVES'''\n",
    "x=bytes(e)\n",
    "y=bytearray(e)\n",
    "\n",
    "# print(e[0:5],x[4])\n",
    "print('Printing bytearray')\n",
    "y[0]=34\n",
    "for i in y: print(i)\n",
    "\n",
    "print(\"bytes are immutatable\")\n",
    "print('Printing byte')\n",
    "x[0]=34\n",
    "for i in x: print(i)"
   ]
  },
  {
   "cell_type": "code",
   "execution_count": 79,
   "metadata": {},
   "outputs": [
    {
     "name": "stdout",
     "output_type": "stream",
     "text": [
      "Before mutation\n",
      "[19, 10, 24, 'priya', 'wife']\n",
      "(19, 10, 24, 'priya', 'wife')\n",
      "After mutation\n",
      "[0, 10, 24, 'priya', 'wife']\n",
      "(19, 10, 24, 'priya', 'wife')\n",
      "range(0, 10) 0\n"
     ]
    }
   ],
   "source": [
    "lst=[19,10,24,'priya','wife']\n",
    "tpl=(19,10,24,'priya','wife')\n",
    "print(\"Before mutation\")\n",
    "print(lst)\n",
    "print(tpl)\n",
    "print(\"After mutation\")\n",
    "lst[0]=0\n",
    "print(lst)\n",
    "# tpl[0]=0\n",
    "print(tpl)\n",
    "r=range(10)\n",
    "print(r,r[0])\n"
   ]
  },
  {
   "cell_type": "code",
   "execution_count": 89,
   "metadata": {},
   "outputs": [
    {
     "name": "stdout",
     "output_type": "stream",
     "text": [
      "{0, 1, 2, 3, 4, 5, 9, 56}\n",
      "{'o', 'h', 'l', 'e'}\n",
      "{' ', 'E', 'H', 'L', 'O'}\n",
      "{'C', ' ', 'E', 'H', 'L', 'P'}\n",
      "[1, 2, 3, 3, 45, 55, 6, 7, 7, 8, 9]\n",
      "{1, 2, 3, 6, 7, 8, 9, 45, 50, 55}\n"
     ]
    },
    {
     "ename": "TypeError",
     "evalue": "unhashable type: 'list'",
     "output_type": "error",
     "traceback": [
      "\u001b[1;31m---------------------------------------------------------------------------\u001b[0m",
      "\u001b[1;31mTypeError\u001b[0m                                 Traceback (most recent call last)",
      "\u001b[1;32m<ipython-input-89-dd85009cda85>\u001b[0m in \u001b[0;36m<module>\u001b[1;34m()\u001b[0m\n\u001b[0;32m     14\u001b[0m \u001b[0my\u001b[0m\u001b[1;33m.\u001b[0m\u001b[0mupdate\u001b[0m\u001b[1;33m(\u001b[0m\u001b[1;33m[\u001b[0m\u001b[1;36m50\u001b[0m\u001b[1;33m]\u001b[0m\u001b[1;33m)\u001b[0m\u001b[1;33m\u001b[0m\u001b[0m\n\u001b[0;32m     15\u001b[0m \u001b[0mprint\u001b[0m\u001b[1;33m(\u001b[0m\u001b[0my\u001b[0m\u001b[1;33m)\u001b[0m\u001b[1;33m\u001b[0m\u001b[0m\n\u001b[1;32m---> 16\u001b[1;33m \u001b[0my\u001b[0m\u001b[1;33m.\u001b[0m\u001b[0mremove\u001b[0m\u001b[1;33m(\u001b[0m\u001b[1;33m[\u001b[0m\u001b[1;36m55\u001b[0m\u001b[1;33m]\u001b[0m\u001b[1;33m)\u001b[0m\u001b[1;33m\u001b[0m\u001b[0m\n\u001b[0m\u001b[0;32m     17\u001b[0m \u001b[0mprint\u001b[0m\u001b[1;33m(\u001b[0m\u001b[0my\u001b[0m\u001b[1;33m)\u001b[0m\u001b[1;33m\u001b[0m\u001b[0m\n",
      "\u001b[1;31mTypeError\u001b[0m: unhashable type: 'list'"
     ]
    }
   ],
   "source": [
    "#Sets are unordered- Indexing can't be used\n",
    "a={0,1,2,3,4,5,56,9}\n",
    "print(a)\n",
    "b=set(\"hello\")\n",
    "print(b)\n",
    "c=set(\"HELLO \")\n",
    "print(c)\n",
    "d=set(\"HELLP CC\")\n",
    "print(d)\n",
    "\n",
    "z=[1,2,3,3,45,55,6,7,7,8,9]\n",
    "print(z)\n",
    "y=set(z)\n",
    "y.update([50])\n",
    "print(y)\n",
    "y.remove([55])\n",
    "print(y)"
   ]
  },
  {
   "cell_type": "code",
   "execution_count": null,
   "metadata": {},
   "outputs": [],
   "source": []
  }
 ],
 "metadata": {
  "kernelspec": {
   "display_name": "Python 3",
   "language": "python",
   "name": "python3"
  },
  "language_info": {
   "codemirror_mode": {
    "name": "ipython",
    "version": 3
   },
   "file_extension": ".py",
   "mimetype": "text/x-python",
   "name": "python",
   "nbconvert_exporter": "python",
   "pygments_lexer": "ipython3",
   "version": "3.6.5"
  }
 },
 "nbformat": 4,
 "nbformat_minor": 2
}
